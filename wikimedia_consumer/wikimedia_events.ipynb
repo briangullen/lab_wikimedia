{
 "cells": [
  {
   "cell_type": "code",
   "execution_count": 23,
   "id": "934195b7-6493-47e6-b9b1-c8856ee7d100",
   "metadata": {},
   "outputs": [],
   "source": [
    "from pyspark.sql import SparkSession\n",
    "import pyspark.sql.functions as F\n",
    "from pyspark.sql.types import StructType, StructField, StringType, BooleanType, IntegerType\n",
    "import pandas as pd\n",
    "import seaborn as sns"
   ]
  },
  {
   "cell_type": "code",
   "execution_count": 24,
   "id": "51166581-6534-4cf8-a804-bb744b292238",
   "metadata": {},
   "outputs": [],
   "source": [
    "spark = SparkSession.builder.appName('StructuredStreamingKafka').getOrCreate()"
   ]
  },
  {
   "cell_type": "code",
   "execution_count": 25,
   "id": "656af3fd-2788-4807-94d9-9b2ab7667ea7",
   "metadata": {},
   "outputs": [],
   "source": [
    "BOOTSTRAP_SERVERS = \"confluent-local-broker-1:51169\"\n",
    "TOPIC = \"wikimedia_events\""
   ]
  },
  {
   "cell_type": "code",
   "execution_count": 26,
   "id": "d14b28c6-aae5-4a07-9813-8327422fdb24",
   "metadata": {},
   "outputs": [],
   "source": [
    "kafka_stream_df = (\n",
    "    spark.readStream\n",
    "    .format('kafka')\n",
    "    .option('kafka.bootstrap.servers', BOOTSTRAP_SERVERS)\n",
    "    .option('subscribe', TOPIC)\n",
    "    .load()\n",
    ")"
   ]
  },
  {
   "cell_type": "code",
   "execution_count": 27,
   "id": "83eb0221-44fa-4493-9ed2-35de32cce1b8",
   "metadata": {},
   "outputs": [],
   "source": [
    "def output_console(df):\n",
    "    query = df.writeStream.outputMode('complete').format('console').start()"
   ]
  },
  {
   "cell_type": "code",
   "execution_count": 28,
   "id": "055cd949-0443-443c-b565-abd9e62f2ce4",
   "metadata": {},
   "outputs": [],
   "source": [
    "def test(df, sleep_time=5, output_mode='append'):\n",
    "    import time\n",
    "    query = df.writeStream.outputMode(output_mode).format('console').start()\n",
    "    time.sleep(sleep_time)\n",
    "    query.stop()"
   ]
  },
  {
   "cell_type": "code",
   "execution_count": 29,
   "id": "307356c7-32ca-448e-98f0-61bf24dabe4a",
   "metadata": {},
   "outputs": [],
   "source": [
    "schema = StructType([\n",
    "    StructField('timestamp', IntegerType()),\n",
    "    StructField('bot', BooleanType()),\n",
    "    StructField('minor', BooleanType()),\n",
    "    StructField('user', StringType()),\n",
    "    StructField('meta', StructType([\n",
    "        StructField('domain', StringType())\n",
    "    ])),\n",
    "    StructField('length', StructType([\n",
    "        StructField('old', IntegerType()),\n",
    "        StructField('new', IntegerType())\n",
    "    ]))\n",
    "])"
   ]
  },
  {
   "cell_type": "code",
   "execution_count": 30,
   "id": "04981894-a212-45b1-a73a-d9b0f2971d62",
   "metadata": {},
   "outputs": [],
   "source": [
    "df = kafka_stream_df.select(F.col('value').cast('string'))\n",
    "df = df.select(F.from_json(df.value, schema).alias('data'))\n",
    "df = df.select(\n",
    "    'data.timestamp',\n",
    "    'data.bot',\n",
    "    'data.minor',\n",
    "    'data.user',\n",
    "    'data.meta.domain',\n",
    "    F.col('data.length.old').alias('old_length'),\n",
    "    F.col('data.length.new').alias('new_length')\n",
    ")\n",
    "df = df.withColumn('length_diff', F.col('new_length') - F.col('old_length'))\n",
    "df = df.withColumn('length_diff_percent', F.col('length_diff') / F.col('old_length') * 100)"
   ]
  },
  {
   "cell_type": "code",
   "execution_count": 31,
   "id": "c982824c-fc90-4e3f-b77f-536ad4f94a5d",
   "metadata": {},
   "outputs": [],
   "source": [
    "# top_five_domains = df.groupBy('domain').count().orderBy(F.desc('count')).limit(5)\n",
    "# test(top_five_domains, sleep_time=30, output_mode='complete')"
   ]
  },
  {
   "cell_type": "code",
   "execution_count": 32,
   "id": "430d2325-c8ca-4ab8-b23e-e785a27aeeae",
   "metadata": {},
   "outputs": [],
   "source": [
    "# spark-1  | +--------------------+-----+\n",
    "# spark-1  | |              domain|count|\n",
    "# spark-1  | +--------------------+-----+\n",
    "# spark-1  | |    www.wikidata.org|  280|\n",
    "# spark-1  | |commons.wikimedia...|  236|\n",
    "# spark-1  | |    en.wikipedia.org|  196|\n",
    "# spark-1  | |   mg.wiktionary.org|   18|\n",
    "# spark-1  | |    zh.wikipedia.org|   12|\n",
    "# spark-1  | +--------------------+-----+"
   ]
  },
  {
   "cell_type": "code",
   "execution_count": 33,
   "id": "2ccff329-7493-4dbb-92e1-ef6e2b8baf14",
   "metadata": {},
   "outputs": [],
   "source": [
    "# top_five_users = df.groupBy('user').agg(F.sum('length_diff').alias('length_diff_sum')).orderBy(F.desc('length_diff_sum')).limit(5)\n",
    "# test(top_five_users, sleep_time=30, output_mode='complete')"
   ]
  },
  {
   "cell_type": "code",
   "execution_count": 34,
   "id": "c8bfecd6-75eb-44f2-a198-edbdcf908f1e",
   "metadata": {},
   "outputs": [],
   "source": [
    "# spark-1  | +-------------+---------------+\n",
    "# spark-1  | |         user|length_diff_sum|\n",
    "# spark-1  | +-------------+---------------+\n",
    "# spark-1  | |    Emijrpbot|          38457|\n",
    "# spark-1  | |     DrThneed|          18450|\n",
    "# spark-1  | |       Cewbot|          15238|\n",
    "# spark-1  | |SchlurcherBot|          13888|\n",
    "# spark-1  | |        Scann|          12814|\n",
    "# spark-1  | +-------------+---------------+\n"
   ]
  },
  {
   "cell_type": "code",
   "execution_count": 35,
   "id": "7773ee12-b256-4a4b-aab3-6a40a8617aa0",
   "metadata": {},
   "outputs": [],
   "source": [
    "# summary = df.agg(\n",
    "#     F.count('timestamp').alias('total_count'),\n",
    "#     (F.count_if(F.col('bot') == True) / F.count('bot')).alias('bot_percent'),\n",
    "#     F.mean('length_diff').alias('average_length_diff'),\n",
    "#     F.min('length_diff').alias('min_length_diff'),\n",
    "#     F.max('length_diff').alias('max_length_diff')\n",
    "# )\n",
    "# test(summary, sleep_time=30, output_mode='complete')"
   ]
  },
  {
   "cell_type": "code",
   "execution_count": 36,
   "id": "0d496b29-6915-4733-b998-2f61d739a2f1",
   "metadata": {},
   "outputs": [],
   "source": [
    "# spark-1  | +-----------+------------------+-------------------+---------------+---------------+\n",
    "# spark-1  | |total_count|       bot_percent|average_length_diff|min_length_diff|max_length_diff|\n",
    "# spark-1  | +-----------+------------------+-------------------+---------------+---------------+\n",
    "# spark-1  | |        598|0.3695652173913043|  307.1011235955056|          -5864|           9851|\n",
    "# spark-1  | +-----------+------------------+-------------------+---------------+---------------+"
   ]
  },
  {
   "cell_type": "code",
   "execution_count": 37,
   "id": "11d1a849-57d5-49b6-9ed1-006739f1ae71",
   "metadata": {},
   "outputs": [],
   "source": [
    "query = (\n",
    "    df.writeStream\n",
    "    .outputMode('append')\n",
    "    .option('checkpointLocation', 'output')\n",
    "    .format('csv')\n",
    "    .option('path', 'output/wikimedia_events.csv')\n",
    "    .option('header', True)\n",
    "    .trigger(processingTime='10 seconds')\n",
    "    .start()\n",
    ")\n",
    "import time\n",
    "time.sleep(20)\n",
    "query.stop()"
   ]
  }
 ],
 "metadata": {
  "kernelspec": {
   "display_name": "Python 3 (ipykernel)",
   "language": "python",
   "name": "python3"
  },
  "language_info": {
   "codemirror_mode": {
    "name": "ipython",
    "version": 3
   },
   "file_extension": ".py",
   "mimetype": "text/x-python",
   "name": "python",
   "nbconvert_exporter": "python",
   "pygments_lexer": "ipython3",
   "version": "3.11.6"
  }
 },
 "nbformat": 4,
 "nbformat_minor": 5
}
